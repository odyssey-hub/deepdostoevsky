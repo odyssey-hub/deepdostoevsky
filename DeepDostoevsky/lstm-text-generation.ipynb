{
 "metadata": {
  "kernelspec": {
   "language": "python",
   "display_name": "Python 3",
   "name": "python3"
  },
  "language_info": {
   "name": "python",
   "version": "3.7.12",
   "mimetype": "text/x-python",
   "codemirror_mode": {
    "name": "ipython",
    "version": 3
   },
   "pygments_lexer": "ipython3",
   "nbconvert_exporter": "python",
   "file_extension": ".py"
  }
 },
 "nbformat_minor": 4,
 "nbformat": 4,
 "cells": [
  {
   "cell_type": "code",
   "source": [
    "from pathlib import Path\n",
    "\n",
    "seq_length = 20\n",
    "num_epoch = 50\n",
    "batch_size = 8\n",
    "seed = 1303\n",
    "train_percent = 80\n",
    "\n",
    "print_every = 1000\n",
    "path = Path(\"./model.pt\")"
   ],
   "metadata": {
    "execution": {
     "iopub.status.busy": "2022-09-10T21:28:47.187130Z",
     "iopub.execute_input": "2022-09-10T21:28:47.187525Z",
     "iopub.status.idle": "2022-09-10T21:28:47.193470Z",
     "shell.execute_reply.started": "2022-09-10T21:28:47.187491Z",
     "shell.execute_reply": "2022-09-10T21:28:47.192490Z"
    },
    "trusted": true
   },
   "execution_count": 18,
   "outputs": []
  },
  {
   "cell_type": "code",
   "source": [
    "def remove_consecutive_spaces(string):\n",
    "    return ' '.join(string.split())\n",
    "\n",
    "def get_uniq_words(words):\n",
    "        word_counts = Counter(words)\n",
    "        return sorted(word_counts, key=word_counts.get, reverse=True)\n",
    "    \n",
    "def load(load_directory):\n",
    "        train_texts = []\n",
    "        punctuation = string.punctuation\n",
    "        print(punctuation)\n",
    "        \n",
    "        for root, dirs, texts in os.walk(load_directory):\n",
    "            for file in texts:\n",
    "                path = os.path.join(root, file)\n",
    "                extension = os.path.splitext(path)[1]\n",
    "                \n",
    "                if extension == \".txt\":\n",
    "                    try:\n",
    "                        with open(path, encoding='utf-8', mode=\"r\") as f:\n",
    "                            clean_text = \"\".join(char for char in f.read().replace('\\n', ' ') if char not in punctuation).lower()\n",
    "                            clean_text = remove_consecutive_spaces(clean_text)\n",
    "                            train_texts.append(clean_text)\n",
    "                    except:\n",
    "                        print(f\"error importing path: {path}\")\n",
    "            \n",
    "        text = '\\n'.join(train_texts)\n",
    "        print(len(text))\n",
    "        return text.split(' ')[:200000]"
   ],
   "metadata": {
    "execution": {
     "iopub.status.busy": "2022-09-10T21:28:47.357949Z",
     "iopub.execute_input": "2022-09-10T21:28:47.358496Z",
     "iopub.status.idle": "2022-09-10T21:28:47.367930Z",
     "shell.execute_reply.started": "2022-09-10T21:28:47.358456Z",
     "shell.execute_reply": "2022-09-10T21:28:47.366942Z"
    },
    "trusted": true
   },
   "execution_count": 19,
   "outputs": []
  },
  {
   "cell_type": "code",
   "source": [
    "import os\n",
    "import string\n",
    "\n",
    "import torch\n",
    "import pandas as pd\n",
    "from collections import Counter\n",
    "\n",
    "\n",
    "class Dataset(torch.utils.data.Dataset):\n",
    "    def __init__(self, load_directory):\n",
    "        self.words = load(load_directory)\n",
    "        self.unique_words = get_uniq_words(self.words)\n",
    "\n",
    "        self.index_to_word = {index: word for index, word in enumerate(self.unique_words)}\n",
    "        self.word_to_index = {word: index for index, word in enumerate(self.unique_words)}\n",
    "        \n",
    "        self.words_indexes = [self.word_to_index[w] for w in self.words]\n",
    "\n",
    "    def __len__(self):\n",
    "        return len(self.words_indexes) - seq_length\n",
    "\n",
    "    def __getitem__(self, index):\n",
    "        return (\n",
    "            torch.tensor(self.words_indexes[index : index + seq_length]),\n",
    "            torch.tensor(self.words_indexes[index + 1 : index + seq_length + 1]),\n",
    "        )"
   ],
   "metadata": {
    "execution": {
     "iopub.status.busy": "2022-09-10T21:28:47.500059Z",
     "iopub.execute_input": "2022-09-10T21:28:47.500331Z",
     "iopub.status.idle": "2022-09-10T21:28:47.508466Z",
     "shell.execute_reply.started": "2022-09-10T21:28:47.500305Z",
     "shell.execute_reply": "2022-09-10T21:28:47.507513Z"
    },
    "trusted": true
   },
   "execution_count": 20,
   "outputs": []
  },
  {
   "cell_type": "code",
   "source": [
    "from torch.utils.data import random_split\n",
    "import json\n",
    "\n",
    "\n",
    "# Train/test split\n",
    "ds = Dataset(\"./dune/\")\n",
    "\n",
    "# Save word_to_index and index_to_word dictionaries to json file for generator's use\n",
    "with open(path.with_suffix('.json'), 'w') as file:\n",
    "    json.dump({\n",
    "        \"word_to_index\": ds.word_to_index,\n",
    "        \"index_to_word\": ds.index_to_word\n",
    "    }, file)\n",
    "\n",
    "train_len = int(len(ds) / 100 * train_percent)\n",
    "ds_train, ds_test = random_split(ds, [train_len, len(ds) - train_len], generator=torch.Generator().manual_seed(seed))"
   ],
   "metadata": {
    "execution": {
     "iopub.status.busy": "2022-09-10T21:28:47.631483Z",
     "iopub.execute_input": "2022-09-10T21:28:47.632082Z",
     "iopub.status.idle": "2022-09-10T21:28:47.908921Z",
     "shell.execute_reply.started": "2022-09-10T21:28:47.632048Z",
     "shell.execute_reply": "2022-09-10T21:28:47.907947Z"
    },
    "trusted": true
   },
   "execution_count": 21,
   "outputs": [
    {
     "name": "stdout",
     "text": "!\"#$%&'()*+,-./:;<=>?@[\\]^_`{|}~\n1095522\n",
     "output_type": "stream"
    }
   ]
  },
  {
   "cell_type": "code",
   "source": [
    "import torch\n",
    "from torch import nn\n",
    "\n",
    "\n",
    "class Model(nn.Module):\n",
    "    def __init__(self, dataset):\n",
    "        super(Model, self).__init__()\n",
    "        # Save these dictinaries for generator \n",
    "        self.index_to_word = dataset.index_to_word\n",
    "        self.word_to_index = dataset.word_to_index\n",
    "        \n",
    "        self.lstm_size = 128\n",
    "        self.embedding_dim = 128\n",
    "        self.num_layers = 4\n",
    "\n",
    "        n_vocab = len(dataset.unique_words)\n",
    "        self.embedding = nn.Embedding(\n",
    "            num_embeddings=n_vocab,\n",
    "            embedding_dim=self.embedding_dim,\n",
    "        ).cuda()\n",
    "        self.lstm = nn.LSTM(\n",
    "            input_size=self.lstm_size,\n",
    "            hidden_size=self.lstm_size,\n",
    "            num_layers=self.num_layers,\n",
    "            dropout=0.2,\n",
    "        ).cuda()\n",
    "        \n",
    "        # Fully-connected layer\n",
    "        self.bn = nn.BatchNorm1d(self.lstm_size).cuda()\n",
    "        self.fc = nn.Linear(self.lstm_size, n_vocab).cuda()\n",
    "\n",
    "    def forward(self, x, prev_state):\n",
    "        embed = self.embedding(x.cuda())\n",
    "        output, state = self.lstm(embed, prev_state)\n",
    "        \n",
    "        bn = self.bn(output.permute(0, 2, 1))\n",
    "        logits = self.fc(bn.permute(0, 2, 1))\n",
    "        return logits.cuda(), state\n",
    "\n",
    "    def init_state(self, sequence_length):\n",
    "        return (torch.zeros(self.num_layers, sequence_length, self.lstm_size),\n",
    "                torch.zeros(self.num_layers, sequence_length, self.lstm_size))"
   ],
   "metadata": {
    "execution": {
     "iopub.status.busy": "2022-09-10T21:28:47.911045Z",
     "iopub.execute_input": "2022-09-10T21:28:47.911441Z",
     "iopub.status.idle": "2022-09-10T21:28:47.921798Z",
     "shell.execute_reply.started": "2022-09-10T21:28:47.911403Z",
     "shell.execute_reply": "2022-09-10T21:28:47.920658Z"
    },
    "trusted": true
   },
   "execution_count": 22,
   "outputs": []
  },
  {
   "cell_type": "code",
   "source": [
    "import argparse\n",
    "import torch\n",
    "import numpy as np\n",
    "from torch import nn, optim\n",
    "from torch.utils.data import DataLoader\n",
    "from torch.optim.lr_scheduler import ExponentialLR, StepLR\n",
    "\n",
    "from IPython.display import clear_output\n",
    "import matplotlib.pyplot as plt\n",
    "import matplotlib.image as mpimg\n",
    "import matplotlib as mpl\n",
    "\n",
    "\n",
    "def train(ds_train, ds_test, model):\n",
    "    model.train()\n",
    "    print(\"training started\")\n",
    "\n",
    "    train_loader = DataLoader(ds_train, batch_size=batch_size)\n",
    "    test_loader = DataLoader(ds_test, batch_size=batch_size)\n",
    "    \n",
    "    criterion = nn.CrossEntropyLoss()\n",
    "    opt = optim.Adam(model.parameters(), lr=0.0005)\n",
    "    scheduler = StepLR(opt, step_size=8, gamma=0.0001)\n",
    "    \n",
    "    train_losses, test_losses = [], []  # For graphs\n",
    "    \n",
    "    for epoch in range(num_epoch):\n",
    "        train_errors = []\n",
    "        state_h, state_c = model.init_state(seq_length)\n",
    "        \n",
    "        model.train()\n",
    "        for batch, (x, y) in enumerate(train_loader):\n",
    "            y_pred, (state_h, state_c) = model(x.cuda(), (state_h.cuda(), state_c.cuda()))\n",
    "            err = criterion(y_pred.transpose(1, 2), y.cuda())\n",
    "            \n",
    "            train_errors.append(err.item())\n",
    "            \n",
    "            state_h = state_h.detach()\n",
    "            state_c = state_c.detach()\n",
    "\n",
    "            err.backward()\n",
    "            opt.step()\n",
    "            opt.zero_grad()\n",
    "            \n",
    "            if batch % print_every == 0:\n",
    "                print(f'train batch {batch}/{len(train_loader)}. train_loss: {err.item()}')\n",
    "        \n",
    "\n",
    "        print('-' * 20)\n",
    "        test_errors = []\n",
    "        \n",
    "        model.eval()\n",
    "        with torch.no_grad():\n",
    "            for batch, (x, y) in enumerate(test_loader):\n",
    "                y_pred, (state_h, state_c) = model(x.cuda(), (state_h.cuda(), state_c.cuda()))\n",
    "                err = criterion(y_pred.transpose(1, 2), y.cuda())\n",
    "\n",
    "                test_errors.append(err.item())\n",
    "\n",
    "                state_h = state_h.detach()\n",
    "                state_c = state_c.detach()\n",
    "                \n",
    "                if batch % print_every == 0:\n",
    "                    print(f'test batch {batch}/{len(test_loader)}. test_loss: {err.item()}')\n",
    "                    \n",
    "        scheduler.step()\n",
    "        train_loss, test_loss = sum(train_errors) / len(train_errors), sum(test_errors) / len(test_errors)\n",
    "        \n",
    "        train_losses.append(train_loss)\n",
    "        test_losses.append(test_loss)\n",
    "        \n",
    "        torch.save(model, f\"epoch_{str(epoch).zfill(3)}_train_loss_{train_loss}_test_loss_{test_loss}_model.pt\")\n",
    "        torch.save(model.state_dict(), f\"epoch_{str(epoch).zfill(3)}_train_loss_{train_loss}_test_loss_{test_loss}_model.pth\")\n",
    "        \n",
    "        # Output\n",
    "        clear_output(True)\n",
    "        \n",
    "        print(f'epoch {epoch} ended. train_loss: {train_loss}, test_loss: {test_loss}')\n",
    "        print('-' * 20)\n",
    "        print()\n",
    "        \n",
    "        plt.plot(train_losses, label='train') \n",
    "        plt.xlabel('epoch')\n",
    "        plt.ylabel('loss')\n",
    "        plt.legend()\n",
    "        plt.show()\n",
    "\n",
    "        plt.plot(test_losses, label='test')\n",
    "        plt.xlabel('epoch')\n",
    "        plt.ylabel('loss')\n",
    "        plt.legend()\n",
    "        plt.show()\n"
   ],
   "metadata": {
    "execution": {
     "iopub.status.busy": "2022-09-10T21:28:47.927869Z",
     "iopub.execute_input": "2022-09-10T21:28:47.928124Z",
     "iopub.status.idle": "2022-09-10T21:28:47.948585Z",
     "shell.execute_reply.started": "2022-09-10T21:28:47.928100Z",
     "shell.execute_reply": "2022-09-10T21:28:47.947652Z"
    },
    "trusted": true
   },
   "execution_count": 23,
   "outputs": []
  },
  {
   "cell_type": "code",
   "source": [
    "print(len(ds.unique_words))\n",
    "ds.unique_words[:10]"
   ],
   "metadata": {
    "execution": {
     "iopub.status.busy": "2022-09-10T21:28:48.258908Z",
     "iopub.execute_input": "2022-09-10T21:28:48.259503Z",
     "iopub.status.idle": "2022-09-10T21:28:48.266915Z",
     "shell.execute_reply.started": "2022-09-10T21:28:48.259468Z",
     "shell.execute_reply": "2022-09-10T21:28:48.265942Z"
    },
    "trusted": true
   },
   "execution_count": 24,
   "outputs": [
    {
     "name": "stdout",
     "text": "13810\n",
     "output_type": "stream"
    },
    {
     "execution_count": 24,
     "output_type": "execute_result",
     "data": {
      "text/plain": "['the', 'of', 'a', 'to', 'and', 'he', 'in', 'his', 'said', 'you']"
     },
     "metadata": {}
    }
   ]
  },
  {
   "cell_type": "code",
   "source": [
    "model = Model(ds)\n",
    "train(ds_train, ds_test, model)"
   ],
   "metadata": {
    "execution": {
     "iopub.status.busy": "2022-09-10T21:28:48.605965Z",
     "iopub.execute_input": "2022-09-10T21:28:48.606960Z",
     "iopub.status.idle": "2022-09-10T23:28:56.735691Z",
     "shell.execute_reply.started": "2022-09-10T21:28:48.606914Z",
     "shell.execute_reply": "2022-09-10T23:28:56.734516Z"
    },
    "trusted": true
   },
   "execution_count": 25,
   "outputs": [
    {
     "name": "stdout",
     "text": "epoch 49 ended. train_loss: 4.538970526939052, test_loss: 4.4562516506966405\n--------------------\n\n",
     "output_type": "stream"
    },
    {
     "output_type": "display_data",
     "data": {
      "text/plain": "<Figure size 432x288 with 1 Axes>",
      "image/png": "[encoded data removed]"
     },
     "metadata": {
      "needs_background": "light"
     }
    },
    {
     "output_type": "display_data",
     "data": {
      "text/plain": "<Figure size 432x288 with 1 Axes>",
      "image/png": "[encoded data removed]"
     },
     "metadata": {
      "needs_background": "light"
     }
    }
   ]
  },
  {
   "cell_type": "code",
   "source": [
    "# Save model to file\n",
    "torch.save(model, \"/kaggle/working/model.pt\")"
   ],
   "metadata": {
    "execution": {
     "iopub.status.busy": "2022-09-10T20:23:31.107313Z",
     "iopub.status.idle": "2022-09-10T20:23:31.108166Z",
     "shell.execute_reply.started": "2022-09-10T20:23:31.107911Z",
     "shell.execute_reply": "2022-09-10T20:23:31.107936Z"
    },
    "trusted": true
   },
   "execution_count": null,
   "outputs": []
  },
  {
   "cell_type": "code",
   "source": [
    "model = torch.load(\"/kaggle/working/epoch_000_train_loss_8.08179827423783_test_loss_6.514154818534851_model.pt\")\n",
    "model.eval()"
   ],
   "metadata": {
    "execution": {
     "iopub.status.busy": "2022-09-10T15:03:53.444706Z",
     "iopub.execute_input": "2022-09-10T15:03:53.445365Z",
     "iopub.status.idle": "2022-09-10T15:03:53.476203Z",
     "shell.execute_reply.started": "2022-09-10T15:03:53.445331Z",
     "shell.execute_reply": "2022-09-10T15:03:53.475099Z"
    },
    "trusted": true
   },
   "execution_count": 18,
   "outputs": [
    {
     "execution_count": 18,
     "output_type": "execute_result",
     "data": {
      "text/plain": "Model(\n  (embedding): Embedding(10392, 128)\n  (lstm): LSTM(128, 128, num_layers=4, dropout=0.2)\n  (bn): BatchNorm1d(128, eps=1e-05, momentum=0.1, affine=True, track_running_stats=True)\n  (fc): Linear(in_features=128, out_features=10392, bias=True)\n)"
     },
     "metadata": {}
    }
   ]
  },
  {
   "cell_type": "code",
   "source": [
    "import random\n",
    "\n",
    "def predict(dataset, model, text, length=100):\n",
    "    model.eval()\n",
    "    \n",
    "    if len(text) == 0:\n",
    "        words = [random.choice(ds.unique_words)]\n",
    "    else:\n",
    "        words = text.split(' ')\n",
    "        \n",
    "    state_h, state_c = model.init_state(len(words))\n",
    "\n",
    "    for i in range(0, length):\n",
    "        x = torch.tensor([[dataset.word_to_index[w] for w in words[i:]]])\n",
    "        y_pred, (state_h, state_c) = model(x.cuda(), (state_h.cuda(), state_c.cuda()))\n",
    "\n",
    "        last_word_logits = y_pred[0][-1]\n",
    "        p = torch.nn.functional.softmax(last_word_logits, dim=0).detach().cpu().numpy()\n",
    "        word_index = np.random.choice(len(last_word_logits), p=p)\n",
    "        words.append(dataset.index_to_word[word_index])\n",
    "\n",
    "    return words"
   ],
   "metadata": {
    "execution": {
     "iopub.status.busy": "2022-09-09T18:25:40.465672Z",
     "iopub.execute_input": "2022-09-09T18:25:40.466115Z",
     "iopub.status.idle": "2022-09-09T18:25:40.477585Z",
     "shell.execute_reply.started": "2022-09-09T18:25:40.466083Z",
     "shell.execute_reply": "2022-09-09T18:25:40.475510Z"
    },
    "trusted": true
   },
   "execution_count": 123,
   "outputs": []
  },
  {
   "cell_type": "code",
   "source": [
    "print(' '.join(predict(ds, model, 'мы')))"
   ],
   "metadata": {
    "execution": {
     "iopub.status.busy": "2022-09-09T19:51:36.333272Z",
     "iopub.execute_input": "2022-09-09T19:51:36.333971Z",
     "iopub.status.idle": "2022-09-09T19:51:36.506148Z",
     "shell.execute_reply.started": "2022-09-09T19:51:36.333931Z",
     "shell.execute_reply": "2022-09-09T19:51:36.504432Z"
    },
    "trusted": true
   },
   "execution_count": 193,
   "outputs": [
    {
     "name": "stdout",
     "text": "мы помним в вор, - поцелуемся... хлеба! что б ничей не поняла... и убор приготовляя, что ночам заволокла. за которым движется история человечества. и тесной, мертвец, и песня одна думаешь, этого тени мост через туман застал меня две морщины... заря бледна мильоны - появление германского военного корабля пантера в эту семью явился мне... но мимо! векам грядущим счет, здесь, внизу, она и мне шевельнулась прибой неизреченной зимние теснины и холодно и повторится дикой мяты, неживой, голубоватый всех стихов это - непонятною печалью... но вы видели его - но даже кто-то бедный светик светляка... как проникают, лишь ты ночи доверчиво по-прежнему в\n",
     "output_type": "stream"
    }
   ]
  },
  {
   "cell_type": "code",
   "source": [
    "print(' '.join(predict(ds, model, '')))"
   ],
   "metadata": {
    "execution": {
     "iopub.status.busy": "2022-09-09T15:51:47.369631Z",
     "iopub.execute_input": "2022-09-09T15:51:47.370210Z",
     "iopub.status.idle": "2022-09-09T15:51:47.571291Z",
     "shell.execute_reply.started": "2022-09-09T15:51:47.370164Z",
     "shell.execute_reply": "2022-09-09T15:51:47.570059Z"
    },
    "trusted": true
   },
   "execution_count": 51,
   "outputs": [
    {
     "name": "stdout",
     "text": "пошли наши резко ты ли, жизнь, он повторяет она росла за тебя! 30 мая 1914 * * * * я шел с моей певучей тишине. там далек - меня обжигаешь глазами ее глубоких глаз... 29 я в ножны, товарищи! мы летим, летим над всем, конечно, младшей по гудящей стали ничьи! муж с тобой - себя паладином, часовая стрелка близится рассвет. и никогда сюда лучи к 6 мая 1899 * * * * душа! когда душа морозная светланы мечтой чудесной смущена... 31 марта 1908 поэты когда в сухой осоке, - кто снежной россыпью жемчужной, в мир стал своим путем. уж ищет взором\n",
     "output_type": "stream"
    }
   ]
  },
  {
   "cell_type": "code",
   "source": [
    "# Load model\n",
    "model = Model(ds)\n",
    "model.load_state_dict(torch.load(\"model.pt\"))\n",
    "model.eval()"
   ],
   "metadata": {
    "scrolled": true
   },
   "execution_count": null,
   "outputs": []
  },
  {
   "cell_type": "code",
   "source": [
    "# Loaded\n",
    "print(' '.join(predict(ds, model, '')))"
   ],
   "metadata": {},
   "execution_count": null,
   "outputs": []
  },
  {
   "cell_type": "code",
   "source": [],
   "metadata": {},
   "execution_count": null,
   "outputs": []
  }
 ]
}
