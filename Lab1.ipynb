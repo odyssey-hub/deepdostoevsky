{
 "cells": [
  {
   "cell_type": "code",
   "execution_count": 4,
   "metadata": {},
   "outputs": [
    {
     "name": "stdout",
     "output_type": "stream",
     "text": [
      "Collecting opencorpora-tools\n",
      "  Downloading opencorpora_tools-0.6-py3-none-any.whl (13 kB)\n",
      "Requirement already satisfied: lxml in e:\\programs\\anaconda\\lib\\site-packages (from opencorpora-tools) (4.9.1)\n",
      "Installing collected packages: opencorpora-tools\n",
      "Successfully installed opencorpora-tools-0.6\n",
      "Note: you may need to restart the kernel to use updated packages.\n"
     ]
    }
   ],
   "source": [
    "pip install opencorpora-tools"
   ]
  },
  {
   "cell_type": "code",
   "execution_count": 1,
   "metadata": {},
   "outputs": [],
   "source": [
    "from xml.etree.ElementTree import ElementTree, Element\n",
    "\n",
    "open_corpa_path = \"annot.opcorpora.xml\"\n",
    "dict_open_corpora_path = \"dict.opcorpora.xml\""
   ]
  },
  {
   "cell_type": "code",
   "execution_count": 2,
   "metadata": {},
   "outputs": [],
   "source": [
    "import opencorpora"
   ]
  },
  {
   "cell_type": "code",
   "execution_count": null,
   "metadata": {},
   "outputs": [],
   "source": [
    "corpus = opencorpora.load(open_corpa_path)"
   ]
  },
  {
   "cell_type": "code",
   "execution_count": 15,
   "metadata": {},
   "outputs": [
    {
     "data": {
      "text/plain": [
       "<Corpus revision=4580223 docs:4007 tokens:1989538>"
      ]
     },
     "execution_count": 15,
     "metadata": {},
     "output_type": "execute_result"
    }
   ],
   "source": [
    "corpus"
   ]
  },
  {
   "cell_type": "code",
   "execution_count": 16,
   "metadata": {},
   "outputs": [
    {
     "data": {
      "text/plain": [
       "4007"
      ]
     },
     "execution_count": 16,
     "metadata": {},
     "output_type": "execute_result"
    }
   ],
   "source": [
    "len(corpus.docs)"
   ]
  },
  {
   "cell_type": "code",
   "execution_count": 17,
   "metadata": {},
   "outputs": [],
   "source": [
    "import xml.etree.ElementTree as ET"
   ]
  },
  {
   "cell_type": "markdown",
   "metadata": {},
   "source": []
  },
  {
   "cell_type": "code",
   "execution_count": 18,
   "metadata": {},
   "outputs": [],
   "source": [
    "mytree: ElementTree = ET.parse(dict_open_corpora_path)"
   ]
  },
  {
   "cell_type": "code",
   "execution_count": 34,
   "metadata": {},
   "outputs": [],
   "source": [
    "root = mytree.getroot()\n",
    "list(root)\n",
    "lemmas = root.find(\"lemmata\")\n",
    "first_lemma = list(lemmas)[0]"
   ]
  },
  {
   "cell_type": "code",
   "execution_count": 37,
   "metadata": {},
   "outputs": [
    {
     "data": {
      "text/plain": [
       "[<Element 'l' at 0x118e61ae0>,\n",
       " <Element 'f' at 0x118e61c20>,\n",
       " <Element 'f' at 0x118e61d10>,\n",
       " <Element 'f' at 0x118e61e00>,\n",
       " <Element 'f' at 0x118e61ef0>,\n",
       " <Element 'f' at 0x118e69040>,\n",
       " <Element 'f' at 0x118e69130>,\n",
       " <Element 'f' at 0x118e69220>,\n",
       " <Element 'f' at 0x118e69310>,\n",
       " <Element 'f' at 0x118e69400>,\n",
       " <Element 'f' at 0x118e694f0>,\n",
       " <Element 'f' at 0x118e695e0>,\n",
       " <Element 'f' at 0x118e696d0>]"
      ]
     },
     "execution_count": 37,
     "metadata": {},
     "output_type": "execute_result"
    }
   ],
   "source": [
    "list(first_lemma)"
   ]
  },
  {
   "cell_type": "code",
   "execution_count": 46,
   "metadata": {},
   "outputs": [
    {
     "data": {
      "text/plain": [
       "[('t', 'ёж')]"
      ]
     },
     "execution_count": 46,
     "metadata": {},
     "output_type": "execute_result"
    }
   ],
   "source": [
    "list(first_lemma)[0].items()"
   ]
  },
  {
   "cell_type": "code",
   "execution_count": 63,
   "metadata": {},
   "outputs": [
    {
     "data": {
      "text/plain": [
       "'ежом'"
      ]
     },
     "execution_count": 63,
     "metadata": {},
     "output_type": "execute_result"
    }
   ],
   "source": [
    "list(first_lemma)[5].attrib['t']"
   ]
  },
  {
   "cell_type": "code",
   "execution_count": null,
   "metadata": {
    "pycharm": {
     "is_executing": true
    }
   },
   "outputs": [],
   "source": [
    "for f in root.iter('f'):\n",
    "    print(f.attrib['t'])"
   ]
  },
  {
   "cell_type": "code",
   "execution_count": 67,
   "metadata": {},
   "outputs": [],
   "source": [
    "parent_map = {c: p for p in mytree.iter() for c in p}"
   ]
  },
  {
   "cell_type": "code",
   "execution_count": 100,
   "metadata": {},
   "outputs": [],
   "source": [
    "source_word = \"контрактующегося\"\n",
    "\n",
    "\n",
    "def find_lemma(word):\n",
    "    for f in root.iter('f'):\n",
    "        if word == f.attrib['t']:\n",
    "            lemma_tag = list(parent_map[f])[0]\n",
    "            lemma = lemma_tag.attrib['t']\n",
    "            g = list(lemma_tag)[0].attrib['v']\n",
    "            return [lemma, g]\n"
   ]
  },
  {
   "cell_type": "code",
   "execution_count": 101,
   "metadata": {},
   "outputs": [
    {
     "data": {
      "text/plain": [
       "['контрактующийся', 'PRTF']"
      ]
     },
     "execution_count": 101,
     "metadata": {},
     "output_type": "execute_result"
    }
   ],
   "source": [
    "find_lemma(source_word)"
   ]
  },
  {
   "cell_type": "code",
   "execution_count": 103,
   "metadata": {},
   "outputs": [
    {
     "data": {
      "text/plain": [
       "'стала{стал=VERB} стабильнее{стабильнее=COMP} экономическая{экономический=ADJF} и{и=CONJ} политическая{политический=ADJF} обстановка{обстановка=NOUN} предприятия{предприятие=NOUN} вывели{вывел=VERB} из{из=PREP} тени{теню=VERB} зарплаты{зарплата=NOUN} сотрудников{сотрудник=NOUN} все{весь=ADJF} гришины{гришины=NOUN} одноклассники{одноклассник=NOUN} уже{уж=NOUN} побывали{побывал=VERB} за{за=PREP} границей{граница=NOUN} он{он=NPRO} был{есть=VERB} чуть{чуть=ADVB} ли{ли=CONJ} не{не=PRCL} единственным{единственный=ADJF} кого{кто=NPRO} не{не=PRCL} вывозили{вывожу=VERB} никуда{никуда=ADVB} дальше{дальше=COMP} красной{красная=NOUN} пахры{пахра=NOUN} '"
      ]
     },
     "execution_count": 103,
     "metadata": {},
     "output_type": "execute_result"
    }
   ],
   "source": [
    "def clear_text(text):\n",
    "    return text.lower().replace('.','').replace(',','').replace('\\n','')\n",
    "\n",
    "text = \"Стала стабильнее экономическая и политическая обстановка, предприятия вывели из тени зарплаты сотрудников. \\n Все Гришины одноклассники уже побывали за границей, он был чуть ли не единственным, кого не вывозили никуда дальше Красной Пахры.\"\n",
    "\n",
    "new_text = \"\"\n",
    "for i in clear_text(text).split():\n",
    "    [lemma, g] = find_lemma(i)\n",
    "    new_text = new_text + i + \"{\" + lemma +  \"=\" + g + \"} \"\n",
    "\n",
    "new_text"
   ]
  },
  {
   "cell_type": "code",
   "execution_count": null,
   "metadata": {},
   "outputs": [],
   "source": []
  }
 ],
 "metadata": {
  "kernelspec": {
   "display_name": "Python 3 (ipykernel)",
   "language": "python",
   "name": "python3"
  },
  "language_info": {
   "codemirror_mode": {
    "name": "ipython",
    "version": 3
   },
   "file_extension": ".py",
   "mimetype": "text/x-python",
   "name": "python",
   "nbconvert_exporter": "python",
   "pygments_lexer": "ipython3",
   "version": "3.9.13"
  }
 },
 "nbformat": 4,
 "nbformat_minor": 1
}
